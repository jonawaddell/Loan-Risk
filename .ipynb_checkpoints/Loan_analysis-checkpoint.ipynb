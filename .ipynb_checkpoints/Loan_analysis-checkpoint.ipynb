{
 "cells": [
  {
   "cell_type": "code",
   "execution_count": 37,
   "metadata": {
    "collapsed": true
   },
   "outputs": [],
   "source": [
    "#dependencies\n",
    "import pandas as pd\n",
    "import numpy as np\n",
    "import matplotlib.pyplot as plt\n",
    "import plotly as py\n",
    "import plotly.graph_objs as go\n",
    "from mpl_toolkits.basemap import Basemap\n",
    "import plotly.plotly as py\n",
    "import plotly.tools as tls\n",
    "\n",
    "tls.set_credentials_file(username='jonawaddell', api_key='LTJ4mmA9QkkrZ4eUqQLG')"
   ]
  },
  {
   "cell_type": "code",
   "execution_count": 74,
   "metadata": {},
   "outputs": [
    {
     "data": {
      "text/plain": [
       "loan_amnt              float64\n",
       "term                    object\n",
       "int_rate                object\n",
       "grade                   object\n",
       "sub_grade               object\n",
       "emp_title               object\n",
       "emp_length              object\n",
       "home_ownership          object\n",
       "annual_inc             float64\n",
       "verification_status     object\n",
       "issue_d                 object\n",
       "loan_status             object\n",
       "Reason                  object\n",
       "addr_state              object\n",
       "dtype: object"
      ]
     },
     "execution_count": 74,
     "metadata": {},
     "output_type": "execute_result"
    }
   ],
   "source": [
    "#import loan data csv file\n",
    "loan_data = pd.read_csv('loans49.csv', dtype={'loan_amnt' : float, 'annual_inc': float})\n",
    "#test csv file loaded sucessfully\n",
    "loan_data = loan_data.round(2)\n",
    "loan_data.dtypes\n"
   ]
  },
  {
   "cell_type": "code",
   "execution_count": 71,
   "metadata": {},
   "outputs": [
    {
     "data": {
      "text/html": [
       "<div>\n",
       "<style>\n",
       "    .dataframe thead tr:only-child th {\n",
       "        text-align: right;\n",
       "    }\n",
       "\n",
       "    .dataframe thead th {\n",
       "        text-align: left;\n",
       "    }\n",
       "\n",
       "    .dataframe tbody tr th {\n",
       "        vertical-align: top;\n",
       "    }\n",
       "</style>\n",
       "<table border=\"1\" class=\"dataframe\">\n",
       "  <thead>\n",
       "    <tr style=\"text-align: right;\">\n",
       "      <th></th>\n",
       "      <th>addr_state</th>\n",
       "      <th>loan_amnt</th>\n",
       "    </tr>\n",
       "  </thead>\n",
       "  <tbody>\n",
       "    <tr>\n",
       "      <th>0</th>\n",
       "      <td>AK</td>\n",
       "      <td>1031800.0</td>\n",
       "    </tr>\n",
       "    <tr>\n",
       "      <th>1</th>\n",
       "      <td>AL</td>\n",
       "      <td>4451750.0</td>\n",
       "    </tr>\n",
       "    <tr>\n",
       "      <th>2</th>\n",
       "      <td>AR</td>\n",
       "      <td>2344825.0</td>\n",
       "    </tr>\n",
       "    <tr>\n",
       "      <th>3</th>\n",
       "      <td>AZ</td>\n",
       "      <td>7638800.0</td>\n",
       "    </tr>\n",
       "    <tr>\n",
       "      <th>4</th>\n",
       "      <td>CA</td>\n",
       "      <td>53946550.0</td>\n",
       "    </tr>\n",
       "  </tbody>\n",
       "</table>\n",
       "</div>"
      ],
      "text/plain": [
       "  addr_state   loan_amnt\n",
       "0         AK   1031800.0\n",
       "1         AL   4451750.0\n",
       "2         AR   2344825.0\n",
       "3         AZ   7638800.0\n",
       "4         CA  53946550.0"
      ]
     },
     "execution_count": 71,
     "metadata": {},
     "output_type": "execute_result"
    }
   ],
   "source": [
    "#group loans by loan amounts\n",
    "sum_loan_amnt = loan_data.groupby(['addr_state']).sum()\n",
    "total_loan_amnt = sum_loan_amnt.reset_index(['addr_state'])\n",
    "\n"
   ]
  },
  {
   "cell_type": "code",
   "execution_count": 72,
   "metadata": {},
   "outputs": [
    {
     "data": {
      "image/png": "[encoded data removed]",
      "text/plain": [
       "<matplotlib.figure.Figure at 0x14fb870128>"
      ]
     },
     "metadata": {},
     "output_type": "display_data"
    }
   ],
   "source": [
    "plt.figure(figsize=(20,3))\n",
    "plt.bar(total_loan_amnt['addr_state'],total_loan_amnt['loan_amnt'])\n",
    "\n",
    "# Set x axis and tick locations\n",
    "x_axis = np.arange(len(total_loan_amnt))\n",
    "tick_locations = [value+0.4 for value in x_axis]\n",
    "\n",
    "plt.tight_layout()\n",
    "plt.xlim(-0.25, len(x_axis))\n",
    "plt.ylim(0, max(total_loan_amnt['loan_amnt'])+10)\n",
    "\n",
    "plt.show()"
   ]
  },
  {
   "cell_type": "code",
   "execution_count": 78,
   "metadata": {},
   "outputs": [
    {
     "name": "stdout",
     "output_type": "stream",
     "text": [
      "High five! You successfully sent some data to your account on plotly. View your plot in your browser at https://plot.ly/~jonawaddell/0 or inside your plot.ly account where it is named 'd3-choropleth-map'\n"
     ]
    },
    {
     "data": {
      "text/html": [
       "<iframe id=\"igraph\" scrolling=\"no\" style=\"border:none;\" seamless=\"seamless\" src=\"https://plot.ly/~jonawaddell/0.embed\" height=\"525px\" width=\"100%\"></iframe>"
      ],
      "text/plain": [
       "<plotly.tools.PlotlyDisplay object>"
      ]
     },
     "execution_count": 78,
     "metadata": {},
     "output_type": "execute_result"
    }
   ],
   "source": [
    "#PULL DATA FROM LOAN DF\n",
    "#group total sum of loan data by states\n",
    "sum_loan_amnt = loan_data.groupby(['addr_state']).sum()\n",
    "#reset the group to add the states as a column; not as an index\n",
    "total_loan_amnt = sum_loan_amnt.reset_index(['addr_state'])\n",
    "\n",
    "#PLOT DATA FOR EACH STATE\n",
    "#create new column insert information into textbox for each state\n",
    "total_loan_amnt['text'] = 'State: '+total_loan_amnt['addr_state'].astype(str)\n",
    "\n",
    "#create dictionary to set parameters for state choropleth plot\n",
    "data = [dict(type='choropleth', autocolorscale=False, locations = total_loan_amnt['addr_state'], \n",
    "             z = total_loan_amnt['loan_amnt'], locationmode='USA-states', \n",
    "             text = total_loan_amnt['text'], colorscale = 'custom-colorscale', \n",
    "             colorbar = dict(title=\"\"))]\n",
    "\n",
    "#set layout parameters for plot title and color\n",
    "layout = dict(title='Total Sum of US Loans  State', \n",
    "              geo = dict(scope='usa', projection=dict(type='albers usa'), \n",
    "                         showlakes = False, lakecolor = 'rgb(66,165,245)',),)\n",
    "\n",
    "fig =dict(data=data, layout=layout)\n",
    "py.iplot(fig, filename='d3-choropleth-map')"
   ]
  },
  {
   "cell_type": "code",
   "execution_count": null,
   "metadata": {
    "collapsed": true
   },
   "outputs": [],
   "source": []
  }
 ],
 "metadata": {
  "kernelspec": {
   "display_name": "Python 3",
   "language": "python",
   "name": "python3"
  },
  "language_info": {
   "codemirror_mode": {
    "name": "ipython",
    "version": 3
   },
   "file_extension": ".py",
   "mimetype": "text/x-python",
   "name": "python",
   "nbconvert_exporter": "python",
   "pygments_lexer": "ipython3",
   "version": "3.6.3"
  }
 },
 "nbformat": 4,
 "nbformat_minor": 2
}
