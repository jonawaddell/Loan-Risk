{
 "cells": [
  {
   "cell_type": "code",
   "execution_count": 92,
   "metadata": {},
   "outputs": [],
   "source": [
    "import pandas as pd\n",
    "import numpy as np\n",
    "import matplotlib.pyplot as plt\n",
    "import mpl_toolkits"
   ]
  },
  {
   "cell_type": "code",
   "execution_count": 93,
   "metadata": {},
   "outputs": [],
   "source": [
    "loan_data_file = \"Update_loans49.csv\""
   ]
  },
  {
   "cell_type": "code",
   "execution_count": 94,
   "metadata": {},
   "outputs": [
    {
     "data": {
      "text/html": [
       "<div>\n",
       "<style scoped>\n",
       "    .dataframe tbody tr th:only-of-type {\n",
       "        vertical-align: middle;\n",
       "    }\n",
       "\n",
       "    .dataframe tbody tr th {\n",
       "        vertical-align: top;\n",
       "    }\n",
       "\n",
       "    .dataframe thead th {\n",
       "        text-align: right;\n",
       "    }\n",
       "</style>\n",
       "<table border=\"1\" class=\"dataframe\">\n",
       "  <thead>\n",
       "    <tr style=\"text-align: right;\">\n",
       "      <th></th>\n",
       "      <th>loan_amnt</th>\n",
       "      <th>term</th>\n",
       "      <th>int_rate</th>\n",
       "      <th>grade</th>\n",
       "      <th>sub_grade</th>\n",
       "      <th>emp_title</th>\n",
       "      <th>emp_length</th>\n",
       "      <th>home_ownership</th>\n",
       "      <th>annual_inc</th>\n",
       "      <th>verification_status</th>\n",
       "      <th>issue_d</th>\n",
       "      <th>loan_status</th>\n",
       "      <th>Reason</th>\n",
       "      <th>addr_state</th>\n",
       "    </tr>\n",
       "  </thead>\n",
       "  <tbody>\n",
       "    <tr>\n",
       "      <th>0</th>\n",
       "      <td>5000</td>\n",
       "      <td>36 months</td>\n",
       "      <td>10.65%</td>\n",
       "      <td>B</td>\n",
       "      <td>B2</td>\n",
       "      <td>NaN</td>\n",
       "      <td>10+ years</td>\n",
       "      <td>RENT</td>\n",
       "      <td>24000.0</td>\n",
       "      <td>Verified</td>\n",
       "      <td>12/1/2011</td>\n",
       "      <td>Fully Paid</td>\n",
       "      <td>Computer</td>\n",
       "      <td>AZ</td>\n",
       "    </tr>\n",
       "    <tr>\n",
       "      <th>1</th>\n",
       "      <td>2500</td>\n",
       "      <td>60 months</td>\n",
       "      <td>15.27%</td>\n",
       "      <td>C</td>\n",
       "      <td>C4</td>\n",
       "      <td>Ryder</td>\n",
       "      <td>&lt; 1 year</td>\n",
       "      <td>RENT</td>\n",
       "      <td>30000.0</td>\n",
       "      <td>Source Verified</td>\n",
       "      <td>12/1/2011</td>\n",
       "      <td>Charged Off</td>\n",
       "      <td>bike</td>\n",
       "      <td>GA</td>\n",
       "    </tr>\n",
       "    <tr>\n",
       "      <th>2</th>\n",
       "      <td>2400</td>\n",
       "      <td>36 months</td>\n",
       "      <td>15.96%</td>\n",
       "      <td>C</td>\n",
       "      <td>C5</td>\n",
       "      <td>NaN</td>\n",
       "      <td>10+ years</td>\n",
       "      <td>RENT</td>\n",
       "      <td>12252.0</td>\n",
       "      <td>Not Verified</td>\n",
       "      <td>12/1/2011</td>\n",
       "      <td>Fully Paid</td>\n",
       "      <td>real estate business</td>\n",
       "      <td>IL</td>\n",
       "    </tr>\n",
       "    <tr>\n",
       "      <th>3</th>\n",
       "      <td>10000</td>\n",
       "      <td>36 months</td>\n",
       "      <td>13.49%</td>\n",
       "      <td>C</td>\n",
       "      <td>C1</td>\n",
       "      <td>AIR RESOURCES BOARD</td>\n",
       "      <td>10+ years</td>\n",
       "      <td>RENT</td>\n",
       "      <td>49200.0</td>\n",
       "      <td>Source Verified</td>\n",
       "      <td>12/1/2011</td>\n",
       "      <td>Fully Paid</td>\n",
       "      <td>personel</td>\n",
       "      <td>CA</td>\n",
       "    </tr>\n",
       "    <tr>\n",
       "      <th>4</th>\n",
       "      <td>3000</td>\n",
       "      <td>60 months</td>\n",
       "      <td>12.69%</td>\n",
       "      <td>B</td>\n",
       "      <td>B5</td>\n",
       "      <td>University Medical Group</td>\n",
       "      <td>1 year</td>\n",
       "      <td>RENT</td>\n",
       "      <td>80000.0</td>\n",
       "      <td>Source Verified</td>\n",
       "      <td>12/1/2011</td>\n",
       "      <td>Fully Paid</td>\n",
       "      <td>Personal</td>\n",
       "      <td>OR</td>\n",
       "    </tr>\n",
       "  </tbody>\n",
       "</table>\n",
       "</div>"
      ],
      "text/plain": [
       "   loan_amnt        term int_rate grade sub_grade                 emp_title  \\\n",
       "0       5000   36 months   10.65%     B        B2                       NaN   \n",
       "1       2500   60 months   15.27%     C        C4                     Ryder   \n",
       "2       2400   36 months   15.96%     C        C5                       NaN   \n",
       "3      10000   36 months   13.49%     C        C1       AIR RESOURCES BOARD   \n",
       "4       3000   60 months   12.69%     B        B5  University Medical Group   \n",
       "\n",
       "  emp_length home_ownership  annual_inc verification_status    issue_d  \\\n",
       "0  10+ years           RENT     24000.0            Verified  12/1/2011   \n",
       "1   < 1 year           RENT     30000.0     Source Verified  12/1/2011   \n",
       "2  10+ years           RENT     12252.0        Not Verified  12/1/2011   \n",
       "3  10+ years           RENT     49200.0     Source Verified  12/1/2011   \n",
       "4     1 year           RENT     80000.0     Source Verified  12/1/2011   \n",
       "\n",
       "   loan_status                Reason addr_state  \n",
       "0   Fully Paid              Computer         AZ  \n",
       "1  Charged Off                  bike         GA  \n",
       "2   Fully Paid  real estate business         IL  \n",
       "3   Fully Paid              personel         CA  \n",
       "4   Fully Paid              Personal         OR  "
      ]
     },
     "execution_count": 94,
     "metadata": {},
     "output_type": "execute_result"
    }
   ],
   "source": [
    "#read csv file\n",
    "loan_data = pd.read_csv(loan_data_file)\n",
    "loan_data.head()"
   ]
  },
  {
   "cell_type": "code",
   "execution_count": 95,
   "metadata": {},
   "outputs": [],
   "source": [
    "numOfLoans = loan_data_pd['Reason'].value_counts()"
   ]
  },
  {
   "cell_type": "code",
   "execution_count": 96,
   "metadata": {},
   "outputs": [],
   "source": [
    "purpose_df = loan_data_pd[['loan_amnt', 'Reason']]\n",
    "total_count = purpose_df['Reason'].count()"
   ]
  },
  {
   "cell_type": "code",
   "execution_count": 97,
   "metadata": {},
   "outputs": [
    {
     "name": "stderr",
     "output_type": "stream",
     "text": [
      "C:\\ProgramData\\Anaconda3\\lib\\site-packages\\ipykernel_launcher.py:2: SettingWithCopyWarning: \n",
      "A value is trying to be set on a copy of a slice from a DataFrame.\n",
      "Try using .loc[row_indexer,col_indexer] = value instead\n",
      "\n",
      "See the caveats in the documentation: http://pandas.pydata.org/pandas-docs/stable/indexing.html#indexing-view-versus-copy\n",
      "  \n"
     ]
    }
   ],
   "source": [
    "#replacing debt consolidation into one text\n",
    "purpose_df['Reason'] = purpose_df['Reason'].replace({'Debt Consolidation Loan':'Debt Consolidation','Consolidation':'Debt Consolidation','Consolidation Loan':'Debt Consolidation','Consolidate':'Debt Consolidation', 'debt_consolidation':'Debt Consolidation', 'To pay of all debt':'Debt Consolidation', 'consolidation':'Debt Consolidation', 'debt consolidation':'Debt Consolidation','Killing those big bank cards':'Debt Consolidation','consolidate our debt':'Debt Consolidation','53 CC Debt Consolidation Loan':'Debt Consolidation','Debt consolidation':'Debt Consolidation' })"
   ]
  },
  {
   "cell_type": "code",
   "execution_count": 98,
   "metadata": {},
   "outputs": [],
   "source": [
    "consolidation_df = purpose_df.loc[purpose_df['Reason']=='Debt Consolidation']"
   ]
  },
  {
   "cell_type": "code",
   "execution_count": 99,
   "metadata": {},
   "outputs": [],
   "source": [
    "countOfconsolidation = consolidation_df['Reason'].count()"
   ]
  },
  {
   "cell_type": "code",
   "execution_count": 100,
   "metadata": {},
   "outputs": [
    {
     "name": "stderr",
     "output_type": "stream",
     "text": [
      "C:\\ProgramData\\Anaconda3\\lib\\site-packages\\ipykernel_launcher.py:2: SettingWithCopyWarning: \n",
      "A value is trying to be set on a copy of a slice from a DataFrame.\n",
      "Try using .loc[row_indexer,col_indexer] = value instead\n",
      "\n",
      "See the caveats in the documentation: http://pandas.pydata.org/pandas-docs/stable/indexing.html#indexing-view-versus-copy\n",
      "  \n"
     ]
    }
   ],
   "source": [
    "#replacing credit card into one text\n",
    "purpose_df['Reason'] = purpose_df['Reason'].replace({'Credit Card Loan':'Credit card refinancing','Credit Card Consolidation':'Credit card refinancing','Credit Card Refinance':'Credit card refinancing','Credit Card Payoff':'Credit card refinancing', 'Credit Card':'Credit card refinancing', 'CONSOLIDATING CREDIT CARDS':'Credit card refinancing', 'Consolidate credit card debt':'Credit card refinancing' })"
   ]
  },
  {
   "cell_type": "code",
   "execution_count": 101,
   "metadata": {},
   "outputs": [],
   "source": [
    "credit_card_df = purpose_df.loc[purpose_df['Reason']== 'Credit card refinancing'] \n",
    "countOfcredit = credit_card_df['Reason'].count()"
   ]
  },
  {
   "cell_type": "code",
   "execution_count": 102,
   "metadata": {},
   "outputs": [],
   "source": [
    "homeImprovemnt_df = purpose_df.loc[purpose_df['Reason']== 'Home improvement']\n",
    "countOfhomeImprovement= homeImprovemnt_df['Reason'].count()"
   ]
  },
  {
   "cell_type": "code",
   "execution_count": 103,
   "metadata": {},
   "outputs": [],
   "source": [
    "majorPurchase_df = purpose_df.loc[purpose_df['Reason']== 'Major purchase']\n",
    "countOfmajorPurchase= majorPurchase_df['Reason'].count()"
   ]
  },
  {
   "cell_type": "code",
   "execution_count": 104,
   "metadata": {},
   "outputs": [],
   "source": [
    "carPurchase_df = purpose_df.loc[purpose_df['Reason']== 'Car financing']\n",
    "countOfcarPurchase= carPurchase_df['Reason'].count()"
   ]
  },
  {
   "cell_type": "code",
   "execution_count": 105,
   "metadata": {},
   "outputs": [],
   "source": [
    "business_df = purpose_df.loc[purpose_df['Reason']== 'Business']\n",
    "countOfbusinesses= business_df['Reason'].count()"
   ]
  },
  {
   "cell_type": "code",
   "execution_count": 106,
   "metadata": {},
   "outputs": [],
   "source": [
    "vacation_df = purpose_df.loc[purpose_df['Reason']== 'Vacation']\n",
    "countOfvacation= vacation_df['Reason'].count()"
   ]
  },
  {
   "cell_type": "code",
   "execution_count": 107,
   "metadata": {},
   "outputs": [],
   "source": [
    "vacation_df = purpose_df.loc[purpose_df['Reason']== 'Vacation']\n",
    "countOfvacation= vacation_df['Reason'].count()"
   ]
  },
  {
   "cell_type": "code",
   "execution_count": 108,
   "metadata": {},
   "outputs": [],
   "source": [
    "other_df =purpose_df.loc[purpose_df['Reason']== 'Other']\n",
    "countOfother= vacation_df['Reason'].count()"
   ]
  },
  {
   "cell_type": "code",
   "execution_count": 109,
   "metadata": {},
   "outputs": [],
   "source": [
    "misc_count = total_count-(countOfconsolidation+countOfbusinesses+countOfcarPurchase+countOfcredit+countOfhomeImprovement+countOfmajorPurchase+countOfother+countOfvacation)"
   ]
  },
  {
   "cell_type": "code",
   "execution_count": 110,
   "metadata": {
    "scrolled": true
   },
   "outputs": [
    {
     "data": {
      "image/png": "[encoded data removed]",
      "text/plain": [
       "<matplotlib.figure.Figure at 0x136fbd3a978>"
      ]
     },
     "metadata": {},
     "output_type": "display_data"
    },
    {
     "data": {
      "text/plain": [
       "<matplotlib.figure.Figure at 0x136fb494c88>"
      ]
     },
     "metadata": {},
     "output_type": "display_data"
    }
   ],
   "source": [
    "overall_number = [countOfconsolidation,countOfcredit,countOfhomeImprovement,countOfmajorPurchase,countOfcarPurchase,countOfbusinesses,countOfvacation,countOfother,misc_count ]\n",
    "x_axis = np.arange(len(overall_number))\n",
    "my_colors = 'rgbkymc'\n",
    "    \n",
    "plt.figure(figsize = (20,10))  \n",
    "plt.bar(x_axis, overall_number, color = my_colors, alpha = 0.5, align ='edge')\n",
    "tick_locations = [value+0.4 for value in x_axis]\n",
    "plt.xticks(tick_locations, ['Debt Consolidation', 'Credit Card Consolidation', 'Home Improvement', 'Major Purchase', 'Car_loan', 'Business Loan','Vacation_loan', 'Other-Loans', 'Misc_loans'])\n",
    "plt.title(\"Distribution of various Reasons for loans between the years of 2011 - 2017\", weight='bold', size=25)\n",
    "plt.ylabel('Distribution of various loans',  weight='bold', size=18)\n",
    "plt.xlabel(\"Types of Loans\",  weight='bold', size=18)\n",
    "\n",
    "for x, y in zip(x_axis, overall_number):\n",
    "    plt.text(x + 0.4, y - 0.4, '%.0f' % y,size = 14, ha='center', va='bottom')\n",
    "\n",
    "\n",
    "plt.grid()\n",
    "plt.show()\n",
    "plt.savefig(\"Popular Reasons for Loans.png\")"
   ]
  },
  {
   "cell_type": "code",
   "execution_count": 111,
   "metadata": {},
   "outputs": [],
   "source": [
    "employment_length_group = loan_data_pd.groupby(\"emp_length\")"
   ]
  },
  {
   "cell_type": "code",
   "execution_count": 112,
   "metadata": {},
   "outputs": [
    {
     "data": {
      "text/plain": [
       "emp_length\n",
       "1 year       13312.26\n",
       "10+ years    15396.42\n",
       "2 years      13526.87\n",
       "3 years      13824.31\n",
       "4 years      13797.63\n",
       "5 years      13871.87\n",
       "6 years      14120.68\n",
       "7 years      14236.83\n",
       "8 years      14579.65\n",
       "9 years      14844.11\n",
       "< 1 year     13876.58\n",
       "Name: loan_amnt, dtype: float64"
      ]
     },
     "execution_count": 112,
     "metadata": {},
     "output_type": "execute_result"
    }
   ],
   "source": [
    "avg_loangroup = round(employment_length_group['loan_amnt'].mean(),2)\n",
    "avg_loangroup"
   ]
  },
  {
   "cell_type": "code",
   "execution_count": 113,
   "metadata": {},
   "outputs": [
    {
     "data": {
      "image/png": "[encoded data removed]",
      "text/plain": [
       "<matplotlib.figure.Figure at 0x136fa379cf8>"
      ]
     },
     "metadata": {},
     "output_type": "display_data"
    }
   ],
   "source": [
    "avg_loan_chart = avg_loangroup.plot(kind = \"bar\", figsize = (10,10))\n",
    "plt.title(\"Average loan amount by number of years of employment\", weight='bold', size=25)\n",
    "plt.ylabel('Average Loan Amount',  weight='bold', size=18)\n",
    "plt.xlabel(\"Employment Loan\",  weight='bold', size=18)\n",
    "\n",
    "plt.show()"
   ]
  },
  {
   "cell_type": "code",
   "execution_count": null,
   "metadata": {},
   "outputs": [],
   "source": []
  }
 ],
 "metadata": {
  "kernelspec": {
   "display_name": "Python 3",
   "language": "python",
   "name": "python3"
  },
  "language_info": {
   "codemirror_mode": {
    "name": "ipython",
    "version": 3
   },
   "file_extension": ".py",
   "mimetype": "text/x-python",
   "name": "python",
   "nbconvert_exporter": "python",
   "pygments_lexer": "ipython3",
   "version": "3.6.4"
  }
 },
 "nbformat": 4,
 "nbformat_minor": 2
}
